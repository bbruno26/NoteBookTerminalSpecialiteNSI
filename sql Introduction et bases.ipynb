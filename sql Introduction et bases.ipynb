{
 "cells": [
  {
   "cell_type": "markdown",
   "metadata": {},
   "source": [
    "\n",
    "# PREMIER PAS AVEC LE [SQL](https://fr.wikipedia.org/wiki/Structured_Query_Language) \n",
    "\n",
    "\n",
    "##  En terminal spécialité NSI\n",
    "\n",
    "\n",
    "Lycéé Gaston Monnerville                                 Année 2020/21 \n",
    "\n",
    "-------------------------\n"
   ]
  },
  {
   "cell_type": "markdown",
   "metadata": {},
   "source": [
    "Le langage SQL est utilisé pour manipuler des [bases de données](https://fr.wikipedia.org/wiki/Base_de_donn%C3%A9es). Pour faire simple, on utilise les bases de données pour accéder rapidement à une information dans des données qui font parfois plusieurs milliards de lignes.\n",
    "\n",
    "* Le tableau dont on se sert est trop grand (comme trier 50000 lignes).\n",
    "* On souhaite faire des opérations sur deux feuilles Excel (associer les lignes de l'une avec celles de l'autre).\n",
    "\n",
    "Lorsque le volume de données est important, il est impossible de les voir dans leur ensemble. On peut en voir soit une partie soit une aggrégation. Par exemple, la société qui gère les vélib a ouvert l'accès à ses données. Il est possible de télécharger aussi souvent qu'on veut (toutes les minutes par exemple) un état complet des vélos et places disponibles pour toutes les stations de Paris : c'est une table qui s'enrichit de 1300 lignes toutes les minutes.\n",
    "\n",
    "----------------------------------------------"
   ]
  },
  {
   "cell_type": "markdown",
   "metadata": {},
   "source": [
    "## 1) CREATION D'UNE BASE DE DONNEES\n",
    "\n"
   ]
  },
  {
   "cell_type": "markdown",
   "metadata": {},
   "source": [
    "Avant de commencer, il convient d’importer le module, comme il est coutume de faire avec Python :"
   ]
  },
  {
   "cell_type": "code",
   "execution_count": 1,
   "metadata": {},
   "outputs": [],
   "source": [
    "import sqlite3"
   ]
  },
  {
   "cell_type": "markdown",
   "metadata": {},
   "source": [
    "\n",
    "\n",
    "### 1.a) Connexion\n",
    "\n",
    "Cela fait, nous pouvons nous connecter à une BDD en utilisant la méthode connect et en lui passant l’emplacement du fichier de stockage en paramètre. Si ce dernier n’existe pas, il est alors créé :\n",
    "\n"
   ]
  },
  {
   "cell_type": "code",
   "execution_count": 2,
   "metadata": {},
   "outputs": [],
   "source": [
    "connexion = sqlite3.connect(\"maBaseDeDonnees.db\")  #BDD dans le fichier \"maBaseDeDonnees.db\""
   ]
  },
  {
   "cell_type": "markdown",
   "metadata": {},
   "source": [
    "\n",
    "\n",
    "Comme vous pouvez le voir, nous récupérons un objet retourné par la fonction. Celui-ci est de type Connection et il nous permettra de travailler sur la base.\n",
    "\n",
    "Par ailleurs, il est aussi possible de stocker la BDD directement dans la RAM en utilisant la chaîne clef \":memory:\". Dans ce cas, il n’y aura donc pas de persistance des données après la déconnexion.\n",
    "\n",
    "Exemple : \n",
    "--connexion = sqlite3.connect(\":memory:\")  #BDD dans la RAM--\n",
    "\n",
    "\n",
    "Mais… en quoi est-ce utile de stocker des informations dans la RAM puisque celles-ci sont perdues quand on se déconnecte ? :o\n",
    "\n",
    "C’est une bonne question ! Eh bien, premièrement ce qui est stocké dans la RAM est plus rapide d’accès que ce qu’il y a sur le disque dur. Ainsi, certains utiliseront la RAM de sorte à gagner en performance. Ensuite, les bases temporaires sont aussi très utiles pour effectuer des tests, par exemple des tests unitaires qui sont ainsi reproductibles aisément et n’altèrent pas d’éventuelles BDD persistantes\n",
    "\n",
    "\n"
   ]
  },
  {
   "cell_type": "markdown",
   "metadata": {},
   "source": [
    "### 1.b) Deconnexion\n",
    "\n",
    "Que nous soyons connectés avec la RAM ou non, il ne faut pas oublier de nous déconnecter. Pour cela, il nous suffit de faire appel à la méthode close de notre objet Connection.\n",
    "\n"
   ]
  },
  {
   "cell_type": "code",
   "execution_count": 3,
   "metadata": {},
   "outputs": [],
   "source": [
    "connexion.close()  #Déconnexion"
   ]
  },
  {
   "cell_type": "markdown",
   "metadata": {},
   "source": [
    "### 1.c) Type de champ\n",
    "\n",
    "Comme nous allons bientôt voir comment exécuter des requêtes, il est important de connaître les types disponibles, avec leur correspondance en Python. Voici ci-dessous, un tableau récapitulatif :\n",
    "\n",
    "\n",
    " SQLite     |\tPython |\n",
    " --------   |---------|\n",
    " NULL       |\tNone   |\n",
    " INTEGER    |\tint    |\n",
    " REAL       |\tfloat  |\n",
    " TEXT \t    | str par défaut |\n",
    " BLOB  \t    | bytes |\n",
    "Dans le sens inverse, les types Python du tableau seront utilisables avec leur correspondance SQLite. Il est vrai que la liste peut s’avérer restreignante. Heureusement, il est possible d’ajouter nos propres types de données."
   ]
  },
  {
   "cell_type": "markdown",
   "metadata": {},
   "source": [
    "\n",
    "## 1) INSERTION DE DONNEES DANS UNE BASE \n",
    "\n",
    "nous allons créer une table dans la base contenant un répertoire téléphonique contenant le nom, le prénom, l'adresse et le numéro de téléphone fixe des contacts. Nous verrons comment insérer quelques enregistrements."
   ]
  },
  {
   "cell_type": "code",
   "execution_count": 4,
   "metadata": {},
   "outputs": [],
   "source": [
    "baseDeDonnees = sqlite3.connect(\"maBaseDeDonnees.db\")\n",
    "curseur = baseDeDonnees.cursor()\n",
    "curseur.execute(\"CREATE TABLE Contacts (id INTEGER PRIMARY KEY AUTOINCREMENT, nom TEXT NOT NULL, prenom TEXT NOT NULL, adresse TEXT NOT NULL, telephoneFixe TEXT)\") # Création de la base de données\n",
    "baseDeDonnees.commit() # On envoie la requête SQL\n",
    "curseur.execute(\"INSERT INTO Contacts (nom, prenom, adresse, telephoneFixe) VALUES (?, ?, ?, ?)\", (\"Dupont\", \"Paul\", \"15 rue Louis Pasteur 10000 Troyes\", \"0325997452\")) # On ajoute un enregistrement\n",
    "baseDeDonnees.commit()\n",
    "baseDeDonnees.close()"
   ]
  },
  {
   "cell_type": "markdown",
   "metadata": {},
   "source": [
    "Il est possible d'ajouter un enregistrement depuis un dictionnaire. Dans l'exemple, on ajoute plusieurs enregistrements avec une boucle :"
   ]
  },
  {
   "cell_type": "code",
   "execution_count": 5,
   "metadata": {},
   "outputs": [],
   "source": [
    "baseDeDonnees = sqlite3.connect(\"maBaseDeDonnees.db\")\n",
    "curseur = baseDeDonnees.cursor()\n",
    "personnes = [\n",
    "\t{\"nom\":\"Chabot\", \"prenom\":\"Martin\", \"adresse\":\"18 rue Général Leclerc 13600 La Ciotat\", \"telephoneFixe\":\"0499506373\"},\n",
    "\t{\"nom\":\"Delbois\", \"prenom\":\"Julie\", \"adresse\":\"35 rue du Château 77176 Savigny le Temple\", \"telephoneFixe\":\"0199836074\"},\n",
    "\t{\"nom\":\"Rivard\", \"prenom\":\"Christelle\", \"adresse\":\"83 rue de Québec 83400 Hyères\", \"telephoneFixe\":\"0499687013\"}\n",
    "]\n",
    "for contact in personnes:\n",
    "\tcurseur.execute(\"INSERT INTO Contacts (nom, prenom, adresse, telephoneFixe) VALUES (:nom, :prenom, :adresse, :telephoneFixe)\", contact) # On ajoute un enregistrement depuis un dictionnaire\n",
    "baseDeDonnees.commit()\n",
    "idDernierEnregistrement = curseur.lastrowid # Récupère l'ID de la dernière ligne insérée. \n",
    "baseDeDonnees.close()"
   ]
  },
  {
   "cell_type": "markdown",
   "metadata": {},
   "source": [
    "L'exemple suivant illustre comment modifier des données :\n"
   ]
  },
  {
   "cell_type": "code",
   "execution_count": 6,
   "metadata": {},
   "outputs": [],
   "source": [
    "baseDeDonnees = sqlite3.connect(\"maBaseDeDonnees.db\")\n",
    "curseur = baseDeDonnees.cursor()\n",
    "curseur.execute(\"UPDATE Contacts SET telephoneFixe = ? WHERE id = ?\", (\"0598635076\", 2))\n",
    "baseDeDonnees.commit()\n",
    "baseDeDonnees.close()"
   ]
  },
  {
   "cell_type": "markdown",
   "metadata": {},
   "source": [
    "## 3) RECUPERER DES DONNEES\n",
    "\n",
    "\n",
    "Pour récupérer les données, il est possible de récupérer le premier résultat avec fetchone ou de retourner tous les résultats avec fetchall. Voici un premier exemple utilisant fetchone :"
   ]
  },
  {
   "cell_type": "code",
   "execution_count": 7,
   "metadata": {},
   "outputs": [
    {
     "name": "stdout",
     "output_type": "stream",
     "text": [
      "('Chabot', 'Martin', '0598635076')\n"
     ]
    }
   ],
   "source": [
    "baseDeDonnees = sqlite3.connect(\"maBaseDeDonnees.db\")\n",
    "curseur = baseDeDonnees.cursor()\n",
    "curseur.execute(\"SELECT nom, prenom, telephoneFixe FROM Contacts WHERE id = ?\", (\"2\",))\n",
    "contact = curseur.fetchone()\n",
    "print(contact)"
   ]
  },
  {
   "cell_type": "markdown",
   "metadata": {},
   "source": [
    "Dans l'exemple ci-dessus, la variable contact contient un tuple avec les valeurs du premier enregistrement retourné par la requête.\n",
    "\n",
    "Voyons à présent comment récupérer plusieurs enregistrements avec la commande fetchall :"
   ]
  },
  {
   "cell_type": "code",
   "execution_count": 8,
   "metadata": {},
   "outputs": [
    {
     "name": "stdout",
     "output_type": "stream",
     "text": [
      "('Dupont', 'Paul', '0325997452')\n",
      "('Chabot', 'Martin', '0598635076')\n",
      "('Delbois', 'Julie', '0199836074')\n",
      "('Rivard', 'Christelle', '0499687013')\n"
     ]
    }
   ],
   "source": [
    "baseDeDonnees = sqlite3.connect(\"maBaseDeDonnees.db\")\n",
    "curseur = baseDeDonnees.cursor()\n",
    "curseur.execute(\"SELECT nom, prenom, telephoneFixe FROM Contacts\")\n",
    "for contact in curseur.fetchall():\n",
    "    print(contact)"
   ]
  },
  {
   "cell_type": "markdown",
   "metadata": {},
   "source": [
    "Nous n'oublions pas de refermer la base."
   ]
  },
  {
   "cell_type": "code",
   "execution_count": 9,
   "metadata": {},
   "outputs": [],
   "source": [
    " baseDeDonnees.close()\n",
    "    "
   ]
  },
  {
   "cell_type": "code",
   "execution_count": null,
   "metadata": {},
   "outputs": [],
   "source": []
  }
 ],
 "metadata": {
  "kernelspec": {
   "display_name": "Python 3",
   "language": "python",
   "name": "python3"
  },
  "language_info": {
   "codemirror_mode": {
    "name": "ipython",
    "version": 3
   },
   "file_extension": ".py",
   "mimetype": "text/x-python",
   "name": "python",
   "nbconvert_exporter": "python",
   "pygments_lexer": "ipython3",
   "version": "3.7.6"
  }
 },
 "nbformat": 4,
 "nbformat_minor": 4
}
